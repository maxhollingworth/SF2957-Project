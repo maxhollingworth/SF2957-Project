{
 "cells": [
  {
   "cell_type": "code",
   "execution_count": 41,
   "id": "initial_id",
   "metadata": {
    "collapsed": true,
    "ExecuteTime": {
     "end_time": "2024-11-27T18:20:33.703127Z",
     "start_time": "2024-11-27T18:20:33.699594Z"
    }
   },
   "outputs": [],
   "source": [
    "import tensorflow as tf\n",
    "from tensorflow.keras import datasets, layers, models\n",
    "import matplotlib.pyplot as plt\n",
    "from sklearn import datasets\n",
    "import numpy as np\n",
    "from sklearn.utils import shuffle\n",
    "\n"
   ]
  },
  {
   "cell_type": "code",
   "outputs": [
    {
     "name": "stdout",
     "output_type": "stream",
     "text": [
      "[0.     0.     0.6875 1.     0.5    0.     0.     0.     0.     0.375\n",
      " 1.     0.6875 0.8125 0.5625 0.     0.     0.     0.4375 1.     0.\n",
      " 0.5625 1.     0.     0.     0.     0.125  0.9375 0.75   1.     1.\n",
      " 0.1875 0.     0.     0.     0.3125 0.4375 0.4375 1.     0.25   0.\n",
      " 0.     0.     0.     0.     0.3125 1.     0.3125 0.     0.     0.\n",
      " 0.1875 0.4375 1.     0.6875 0.     0.     0.     0.     0.8125 1.\n",
      " 0.6875 0.0625 0.     0.    ]\n"
     ]
    }
   ],
   "source": [
    "#choose a seed\n",
    "seed = 42\n",
    "np.random.seed(seed)\n",
    "digits = datasets.load_digits()\n",
    "X = digits.data\n",
    "y = np.array(digits.target, dtype = int)\n",
    "X,y = shuffle(X,y)\n",
    "N,d = X.shape\n",
    "X=X/16 #Normalizing the values\n",
    "\n"
   ],
   "metadata": {
    "collapsed": false,
    "ExecuteTime": {
     "end_time": "2024-11-27T18:20:33.721009Z",
     "start_time": "2024-11-27T18:20:33.706243Z"
    }
   },
   "id": "1ccfcd4d015af941",
   "execution_count": 42
  },
  {
   "cell_type": "code",
   "outputs": [],
   "source": [],
   "metadata": {
    "collapsed": false,
    "ExecuteTime": {
     "end_time": "2024-11-27T18:20:33.721312Z",
     "start_time": "2024-11-27T18:20:33.719175Z"
    }
   },
   "id": "63199c6c96bc1a9b",
   "execution_count": 42
  },
  {
   "cell_type": "code",
   "outputs": [],
   "source": [],
   "metadata": {
    "collapsed": false,
    "ExecuteTime": {
     "end_time": "2024-11-27T18:20:33.723252Z",
     "start_time": "2024-11-27T18:20:33.721468Z"
    }
   },
   "id": "9f2aac7ac3da8d1e",
   "execution_count": 42
  }
 ],
 "metadata": {
  "kernelspec": {
   "display_name": "Python 3",
   "language": "python",
   "name": "python3"
  },
  "language_info": {
   "codemirror_mode": {
    "name": "ipython",
    "version": 2
   },
   "file_extension": ".py",
   "mimetype": "text/x-python",
   "name": "python",
   "nbconvert_exporter": "python",
   "pygments_lexer": "ipython2",
   "version": "2.7.6"
  }
 },
 "nbformat": 4,
 "nbformat_minor": 5
}
